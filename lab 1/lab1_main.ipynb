{
 "cells": [
  {
   "cell_type": "code",
   "execution_count": 1,
   "id": "33d7ae36",
   "metadata": {},
   "outputs": [],
   "source": [
    "import pandas as pd\n",
    "import numpy as np\n",
    "import json\n",
    "from gensim.models import Word2Vec\n",
    "import random\n",
    "import string\n",
    "import re\n",
    "import matplotlib.pyplot as plt\n",
    "from sklearn.preprocessing import StandardScaler\n",
    "from sklearn.preprocessing import MinMaxScaler\n",
    "from sklearn.preprocessing import Normalizer\n",
    "from sklearn.model_selection import cross_val_score, StratifiedKFold\n",
    "from scipy import io as scio\n",
    "from sklearn.linear_model import LogisticRegression\n",
    "from sklearn.model_selection import train_test_split\n",
    "from sklearn.metrics import accuracy_score\n",
    "import sklearn.svm as svm\n",
    "from sklearn.neural_network import MLPClassifier\n",
    "from sklearn.tree import DecisionTreeClassifier\n",
    "import tensorflow as tf\n",
    "from tensorflow.keras.preprocessing.text import Tokenizer\n",
    "from tensorflow.keras.preprocessing.sequence import pad_sequences\n",
    "from tensorflow.keras.models import Sequential\n",
    "from tensorflow.keras.layers import Embedding, LSTM, Dense\n",
    "from sklearn.model_selection import GridSearchCV\n",
    "import warnings\n",
    "warnings.filterwarnings(\"ignore\")"
   ]
  },
  {
   "cell_type": "code",
   "execution_count": 2,
   "id": "879aa981",
   "metadata": {},
   "outputs": [],
   "source": [
    "def document_vector(model, doc):\n",
    "    vec = [model.wv[word] for word in doc if word in model.wv.index_to_key]\n",
    "    return np.mean(vec, axis=0) if vec else np.zeros(model.vector_size)"
   ]
  },
  {
   "cell_type": "code",
   "execution_count": 23,
   "id": "bf7a02a6",
   "metadata": {},
   "outputs": [],
   "source": [
    "def Standarization(X_train,X_test):\n",
    "    scaler = MinMaxScaler()\n",
    "    X_train_scaled = scaler.fit_transform(X_train)\n",
    "    X_test_scaled = scaler.transform(X_test)\n",
    "    return X_train_scaled,X_test_scaled"
   ]
  },
  {
   "cell_type": "code",
   "execution_count": 4,
   "id": "db82bf5d",
   "metadata": {},
   "outputs": [
    {
     "data": {
      "text/html": [
       "<div>\n",
       "<style scoped>\n",
       "    .dataframe tbody tr th:only-of-type {\n",
       "        vertical-align: middle;\n",
       "    }\n",
       "\n",
       "    .dataframe tbody tr th {\n",
       "        vertical-align: top;\n",
       "    }\n",
       "\n",
       "    .dataframe thead th {\n",
       "        text-align: right;\n",
       "    }\n",
       "</style>\n",
       "<table border=\"1\" class=\"dataframe\">\n",
       "  <thead>\n",
       "    <tr style=\"text-align: right;\">\n",
       "      <th></th>\n",
       "      <th>label</th>\n",
       "      <th>raw</th>\n",
       "    </tr>\n",
       "  </thead>\n",
       "  <tbody>\n",
       "    <tr>\n",
       "      <th>0</th>\n",
       "      <td>0</td>\n",
       "      <td>I only watched the Wanda Sykes portion of this...</td>\n",
       "    </tr>\n",
       "    <tr>\n",
       "      <th>1</th>\n",
       "      <td>0</td>\n",
       "      <td>This is a cute series, and I did watch two epi...</td>\n",
       "    </tr>\n",
       "    <tr>\n",
       "      <th>2</th>\n",
       "      <td>0</td>\n",
       "      <td>This series revolves around 4 friends who run ...</td>\n",
       "    </tr>\n",
       "    <tr>\n",
       "      <th>3</th>\n",
       "      <td>0</td>\n",
       "      <td>I was pleasantly surprised with this \"out of t...</td>\n",
       "    </tr>\n",
       "    <tr>\n",
       "      <th>4</th>\n",
       "      <td>0</td>\n",
       "      <td>I heard about It's Always Sunny from a Kevin S...</td>\n",
       "    </tr>\n",
       "  </tbody>\n",
       "</table>\n",
       "</div>"
      ],
      "text/plain": [
       "   label                                                raw\n",
       "0      0  I only watched the Wanda Sykes portion of this...\n",
       "1      0  This is a cute series, and I did watch two epi...\n",
       "2      0  This series revolves around 4 friends who run ...\n",
       "3      0  I was pleasantly surprised with this \"out of t...\n",
       "4      0  I heard about It's Always Sunny from a Kevin S..."
      ]
     },
     "execution_count": 4,
     "metadata": {},
     "output_type": "execute_result"
    }
   ],
   "source": [
    "# 用于存储数据的列表\n",
    "data_list = []\n",
    "# 打开训练集文件并逐行读取数据\n",
    "with open('./exp1_data/train_data.txt', 'r') as file:\n",
    "    for line in file:\n",
    "        # 解析JSON数据\n",
    "        data = json.loads(line.strip())\n",
    "        data_list.append(data)\n",
    "# 创建DataFrame\n",
    "df = pd.DataFrame(data_list)\n",
    "# 打印前几行以验证结果\n",
    "df.head()"
   ]
  },
  {
   "cell_type": "code",
   "execution_count": 5,
   "id": "126c86b0",
   "metadata": {},
   "outputs": [
    {
     "data": {
      "text/html": [
       "<div>\n",
       "<style scoped>\n",
       "    .dataframe tbody tr th:only-of-type {\n",
       "        vertical-align: middle;\n",
       "    }\n",
       "\n",
       "    .dataframe tbody tr th {\n",
       "        vertical-align: top;\n",
       "    }\n",
       "\n",
       "    .dataframe thead th {\n",
       "        text-align: right;\n",
       "    }\n",
       "</style>\n",
       "<table border=\"1\" class=\"dataframe\">\n",
       "  <thead>\n",
       "    <tr style=\"text-align: right;\">\n",
       "      <th></th>\n",
       "      <th>text</th>\n",
       "    </tr>\n",
       "  </thead>\n",
       "  <tbody>\n",
       "    <tr>\n",
       "      <th>0</th>\n",
       "      <td>Considering this was shot in 1972 the video qu...</td>\n",
       "    </tr>\n",
       "    <tr>\n",
       "      <th>1</th>\n",
       "      <td>ok, I know its just random, but it seems like ...</td>\n",
       "    </tr>\n",
       "    <tr>\n",
       "      <th>2</th>\n",
       "      <td>Have used this for 5 months and have seen a di...</td>\n",
       "    </tr>\n",
       "    <tr>\n",
       "      <th>3</th>\n",
       "      <td>This app is good but I uninstallled because th...</td>\n",
       "    </tr>\n",
       "    <tr>\n",
       "      <th>4</th>\n",
       "      <td>Yes, I believe they got it right this time, to...</td>\n",
       "    </tr>\n",
       "  </tbody>\n",
       "</table>\n",
       "</div>"
      ],
      "text/plain": [
       "                                                text\n",
       "0  Considering this was shot in 1972 the video qu...\n",
       "1  ok, I know its just random, but it seems like ...\n",
       "2  Have used this for 5 months and have seen a di...\n",
       "3  This app is good but I uninstallled because th...\n",
       "4  Yes, I believe they got it right this time, to..."
      ]
     },
     "execution_count": 5,
     "metadata": {},
     "output_type": "execute_result"
    }
   ],
   "source": [
    "# 打开测试集文件并逐行读取数据\n",
    "with open('./exp1_data/test.txt', 'r', encoding='utf-8') as file:\n",
    "    lines = file.readlines()  \n",
    "# 创建一个空的列表，用于存储数据\n",
    "final_test = []\n",
    "# 解析文本数据并将其添加到列表中\n",
    "for i in range(1,len(lines)):\n",
    "    line = lines[i].strip()\n",
    "    this_line = []\n",
    "    if (i>=1) & (i<=10):\n",
    "        this_text=line[3:]\n",
    "    elif (i>=11) & (i<=100):\n",
    "        this_text=line[4:]\n",
    "    elif (i>=101) & (i<=1000):\n",
    "        this_text=line[5:]\n",
    "    else:\n",
    "        this_text=line[6:]\n",
    "    this_line.append(this_text)\n",
    "    final_test.append(this_line)    \n",
    "# 创建DataFrame\n",
    "ft = pd.DataFrame(final_test, columns=[ 'text'])\n",
    "# 显示DataFrame的前几行\n",
    "ft.head()"
   ]
  },
  {
   "cell_type": "code",
   "execution_count": 6,
   "id": "b7e19dbb",
   "metadata": {},
   "outputs": [
    {
     "name": "stdout",
     "output_type": "stream",
     "text": [
      "50194\n"
     ]
    }
   ],
   "source": [
    "all_text=\"\"\n",
    "for i in range(len(df)):\n",
    "    all_text=all_text+df['raw'][i]+\" \"    \n",
    "for i in range(len(ft)):\n",
    "    all_text=all_text+ft['text'][i]+\" \"\n",
    "# 转换为小写\n",
    "all_text = all_text.lower()\n",
    "# 去除标点符号\n",
    "all_text = re.sub(f\"[{re.escape(string.punctuation)}]\", '', all_text)\n",
    "# 分词\n",
    "tokens = all_text.split()\n",
    "# 去重，构建词表\n",
    "vocabulary = list(set(tokens))\n",
    "# 输出词表\n",
    "print(len(vocabulary))"
   ]
  },
  {
   "cell_type": "code",
   "execution_count": 7,
   "id": "5683c935",
   "metadata": {},
   "outputs": [
    {
     "data": {
      "text/plain": [
       "(8282989, 11845500)"
      ]
     },
     "execution_count": 7,
     "metadata": {},
     "output_type": "execute_result"
    }
   ],
   "source": [
    "conbined_textset = []\n",
    "for i in range(len(df)):\n",
    "    conbined_textset.append(re.sub(f\"[{re.escape(string.punctuation)}]\", '', df['raw'][i]))\n",
    "for i in range(len(ft)):\n",
    "    conbined_textset.append(re.sub(f\"[{re.escape(string.punctuation)}]\", '', ft['text'][i]))\n",
    "combined_corpus = pd.DataFrame(conbined_textset, columns=[ 'text'])\n",
    "corpus =combined_corpus['text'].apply(lambda x: x.lower().split())\n",
    "# 训练Word2Vec模型\n",
    "word2vec = Word2Vec(sentences=corpus, vector_size=100, window=10, min_count=5, sg=1)\n",
    "word2vec.train(corpus, total_examples=len(corpus), epochs=10)"
   ]
  },
  {
   "cell_type": "code",
   "execution_count": 8,
   "id": "c8a993ec",
   "metadata": {},
   "outputs": [],
   "source": [
    "combined_corpus['doc_vector'] = combined_corpus['text'].apply(lambda x: document_vector(word2vec, x.split()))"
   ]
  },
  {
   "cell_type": "code",
   "execution_count": 9,
   "id": "ac82ad49",
   "metadata": {},
   "outputs": [
    {
     "data": {
      "text/html": [
       "<div>\n",
       "<style scoped>\n",
       "    .dataframe tbody tr th:only-of-type {\n",
       "        vertical-align: middle;\n",
       "    }\n",
       "\n",
       "    .dataframe tbody tr th {\n",
       "        vertical-align: top;\n",
       "    }\n",
       "\n",
       "    .dataframe thead th {\n",
       "        text-align: right;\n",
       "    }\n",
       "</style>\n",
       "<table border=\"1\" class=\"dataframe\">\n",
       "  <thead>\n",
       "    <tr style=\"text-align: right;\">\n",
       "      <th></th>\n",
       "      <th>text</th>\n",
       "      <th>doc_vector</th>\n",
       "    </tr>\n",
       "  </thead>\n",
       "  <tbody>\n",
       "    <tr>\n",
       "      <th>0</th>\n",
       "      <td>I only watched the Wanda Sykes portion of this...</td>\n",
       "      <td>[-0.06968915, -0.048230045, -0.04642534, -0.04...</td>\n",
       "    </tr>\n",
       "    <tr>\n",
       "      <th>1</th>\n",
       "      <td>This is a cute series and I did watch two epis...</td>\n",
       "      <td>[-0.011499258, -0.0013103822, -0.11865336, -0....</td>\n",
       "    </tr>\n",
       "    <tr>\n",
       "      <th>2</th>\n",
       "      <td>This series revolves around 4 friends who run ...</td>\n",
       "      <td>[-0.0994866, -0.011678233, -0.04304758, -0.058...</td>\n",
       "    </tr>\n",
       "    <tr>\n",
       "      <th>3</th>\n",
       "      <td>I was pleasantly surprised with this out of th...</td>\n",
       "      <td>[-0.08626594, -0.014134657, -0.018659806, -0.0...</td>\n",
       "    </tr>\n",
       "    <tr>\n",
       "      <th>4</th>\n",
       "      <td>I heard about Its Always Sunny from a Kevin Sm...</td>\n",
       "      <td>[-0.10698509, -0.053235725, -0.0753996, -0.082...</td>\n",
       "    </tr>\n",
       "  </tbody>\n",
       "</table>\n",
       "</div>"
      ],
      "text/plain": [
       "                                                text  \\\n",
       "0  I only watched the Wanda Sykes portion of this...   \n",
       "1  This is a cute series and I did watch two epis...   \n",
       "2  This series revolves around 4 friends who run ...   \n",
       "3  I was pleasantly surprised with this out of th...   \n",
       "4  I heard about Its Always Sunny from a Kevin Sm...   \n",
       "\n",
       "                                          doc_vector  \n",
       "0  [-0.06968915, -0.048230045, -0.04642534, -0.04...  \n",
       "1  [-0.011499258, -0.0013103822, -0.11865336, -0....  \n",
       "2  [-0.0994866, -0.011678233, -0.04304758, -0.058...  \n",
       "3  [-0.08626594, -0.014134657, -0.018659806, -0.0...  \n",
       "4  [-0.10698509, -0.053235725, -0.0753996, -0.082...  "
      ]
     },
     "execution_count": 9,
     "metadata": {},
     "output_type": "execute_result"
    }
   ],
   "source": [
    "combined_corpus.head()"
   ]
  },
  {
   "cell_type": "code",
   "execution_count": 10,
   "id": "fa8f7641",
   "metadata": {},
   "outputs": [],
   "source": [
    "df.loc[:, 'doc_vector'] = combined_corpus['doc_vector'][:8000].values\n",
    "ft.loc[:, 'doc_vector'] = combined_corpus['doc_vector'][8000:].values"
   ]
  },
  {
   "cell_type": "code",
   "execution_count": 11,
   "id": "643f9ebe",
   "metadata": {},
   "outputs": [
    {
     "data": {
      "text/html": [
       "<div>\n",
       "<style scoped>\n",
       "    .dataframe tbody tr th:only-of-type {\n",
       "        vertical-align: middle;\n",
       "    }\n",
       "\n",
       "    .dataframe tbody tr th {\n",
       "        vertical-align: top;\n",
       "    }\n",
       "\n",
       "    .dataframe thead th {\n",
       "        text-align: right;\n",
       "    }\n",
       "</style>\n",
       "<table border=\"1\" class=\"dataframe\">\n",
       "  <thead>\n",
       "    <tr style=\"text-align: right;\">\n",
       "      <th></th>\n",
       "      <th>label</th>\n",
       "      <th>raw</th>\n",
       "      <th>doc_vector</th>\n",
       "    </tr>\n",
       "  </thead>\n",
       "  <tbody>\n",
       "    <tr>\n",
       "      <th>0</th>\n",
       "      <td>0</td>\n",
       "      <td>I only watched the Wanda Sykes portion of this...</td>\n",
       "      <td>[-0.06968915, -0.048230045, -0.04642534, -0.04...</td>\n",
       "    </tr>\n",
       "    <tr>\n",
       "      <th>1</th>\n",
       "      <td>0</td>\n",
       "      <td>This is a cute series, and I did watch two epi...</td>\n",
       "      <td>[-0.011499258, -0.0013103822, -0.11865336, -0....</td>\n",
       "    </tr>\n",
       "    <tr>\n",
       "      <th>2</th>\n",
       "      <td>0</td>\n",
       "      <td>This series revolves around 4 friends who run ...</td>\n",
       "      <td>[-0.0994866, -0.011678233, -0.04304758, -0.058...</td>\n",
       "    </tr>\n",
       "    <tr>\n",
       "      <th>3</th>\n",
       "      <td>0</td>\n",
       "      <td>I was pleasantly surprised with this \"out of t...</td>\n",
       "      <td>[-0.08626594, -0.014134657, -0.018659806, -0.0...</td>\n",
       "    </tr>\n",
       "    <tr>\n",
       "      <th>4</th>\n",
       "      <td>0</td>\n",
       "      <td>I heard about It's Always Sunny from a Kevin S...</td>\n",
       "      <td>[-0.10698509, -0.053235725, -0.0753996, -0.082...</td>\n",
       "    </tr>\n",
       "  </tbody>\n",
       "</table>\n",
       "</div>"
      ],
      "text/plain": [
       "   label                                                raw  \\\n",
       "0      0  I only watched the Wanda Sykes portion of this...   \n",
       "1      0  This is a cute series, and I did watch two epi...   \n",
       "2      0  This series revolves around 4 friends who run ...   \n",
       "3      0  I was pleasantly surprised with this \"out of t...   \n",
       "4      0  I heard about It's Always Sunny from a Kevin S...   \n",
       "\n",
       "                                          doc_vector  \n",
       "0  [-0.06968915, -0.048230045, -0.04642534, -0.04...  \n",
       "1  [-0.011499258, -0.0013103822, -0.11865336, -0....  \n",
       "2  [-0.0994866, -0.011678233, -0.04304758, -0.058...  \n",
       "3  [-0.08626594, -0.014134657, -0.018659806, -0.0...  \n",
       "4  [-0.10698509, -0.053235725, -0.0753996, -0.082...  "
      ]
     },
     "execution_count": 11,
     "metadata": {},
     "output_type": "execute_result"
    }
   ],
   "source": [
    "df.head()"
   ]
  },
  {
   "cell_type": "code",
   "execution_count": 12,
   "id": "a2f59856",
   "metadata": {},
   "outputs": [
    {
     "data": {
      "text/html": [
       "<div>\n",
       "<style scoped>\n",
       "    .dataframe tbody tr th:only-of-type {\n",
       "        vertical-align: middle;\n",
       "    }\n",
       "\n",
       "    .dataframe tbody tr th {\n",
       "        vertical-align: top;\n",
       "    }\n",
       "\n",
       "    .dataframe thead th {\n",
       "        text-align: right;\n",
       "    }\n",
       "</style>\n",
       "<table border=\"1\" class=\"dataframe\">\n",
       "  <thead>\n",
       "    <tr style=\"text-align: right;\">\n",
       "      <th></th>\n",
       "      <th>text</th>\n",
       "      <th>doc_vector</th>\n",
       "    </tr>\n",
       "  </thead>\n",
       "  <tbody>\n",
       "    <tr>\n",
       "      <th>0</th>\n",
       "      <td>Considering this was shot in 1972 the video qu...</td>\n",
       "      <td>[-0.084584676, 0.031909768, -0.026251072, -0.0...</td>\n",
       "    </tr>\n",
       "    <tr>\n",
       "      <th>1</th>\n",
       "      <td>ok, I know its just random, but it seems like ...</td>\n",
       "      <td>[-0.036672655, -0.048087068, -0.08822724, -0.1...</td>\n",
       "    </tr>\n",
       "    <tr>\n",
       "      <th>2</th>\n",
       "      <td>Have used this for 5 months and have seen a di...</td>\n",
       "      <td>[-0.14230254, 0.0075209406, 0.03086874, -0.054...</td>\n",
       "    </tr>\n",
       "    <tr>\n",
       "      <th>3</th>\n",
       "      <td>This app is good but I uninstallled because th...</td>\n",
       "      <td>[-0.08951737, -0.0003368182, -0.041397307, -0....</td>\n",
       "    </tr>\n",
       "    <tr>\n",
       "      <th>4</th>\n",
       "      <td>Yes, I believe they got it right this time, to...</td>\n",
       "      <td>[-0.09293516, 0.032755002, -0.021602502, -0.10...</td>\n",
       "    </tr>\n",
       "  </tbody>\n",
       "</table>\n",
       "</div>"
      ],
      "text/plain": [
       "                                                text  \\\n",
       "0  Considering this was shot in 1972 the video qu...   \n",
       "1  ok, I know its just random, but it seems like ...   \n",
       "2  Have used this for 5 months and have seen a di...   \n",
       "3  This app is good but I uninstallled because th...   \n",
       "4  Yes, I believe they got it right this time, to...   \n",
       "\n",
       "                                          doc_vector  \n",
       "0  [-0.084584676, 0.031909768, -0.026251072, -0.0...  \n",
       "1  [-0.036672655, -0.048087068, -0.08822724, -0.1...  \n",
       "2  [-0.14230254, 0.0075209406, 0.03086874, -0.054...  \n",
       "3  [-0.08951737, -0.0003368182, -0.041397307, -0....  \n",
       "4  [-0.09293516, 0.032755002, -0.021602502, -0.10...  "
      ]
     },
     "execution_count": 12,
     "metadata": {},
     "output_type": "execute_result"
    }
   ],
   "source": [
    "ft.head()"
   ]
  },
  {
   "cell_type": "code",
   "execution_count": 13,
   "id": "0e1ef5a9",
   "metadata": {},
   "outputs": [],
   "source": [
    "n = len(df)\n",
    "#设置训练集和测试集的样本比例以及随机数种子\n",
    "n_train = n*0.8\n",
    "n_train=int(n_train)\n",
    "n_test = n-n_train\n",
    "seed = 19260817\n",
    "random.seed(seed)\n",
    "index = range(0,n)\n",
    "index_selected = random.sample(index,n_train)\n",
    "index_selected.sort()\n",
    "#划分训练集和测试集\n",
    "Data_train = df.loc[index_selected]\n",
    "Data_test = df.drop(index = index_selected)"
   ]
  },
  {
   "cell_type": "code",
   "execution_count": 14,
   "id": "47c09c18",
   "metadata": {},
   "outputs": [
    {
     "data": {
      "text/html": [
       "<div>\n",
       "<style scoped>\n",
       "    .dataframe tbody tr th:only-of-type {\n",
       "        vertical-align: middle;\n",
       "    }\n",
       "\n",
       "    .dataframe tbody tr th {\n",
       "        vertical-align: top;\n",
       "    }\n",
       "\n",
       "    .dataframe thead th {\n",
       "        text-align: right;\n",
       "    }\n",
       "</style>\n",
       "<table border=\"1\" class=\"dataframe\">\n",
       "  <thead>\n",
       "    <tr style=\"text-align: right;\">\n",
       "      <th></th>\n",
       "      <th>label</th>\n",
       "      <th>raw</th>\n",
       "      <th>doc_vector</th>\n",
       "    </tr>\n",
       "  </thead>\n",
       "  <tbody>\n",
       "    <tr>\n",
       "      <th>0</th>\n",
       "      <td>0</td>\n",
       "      <td>I only watched the Wanda Sykes portion of this...</td>\n",
       "      <td>[-0.06968915, -0.048230045, -0.04642534, -0.04...</td>\n",
       "    </tr>\n",
       "    <tr>\n",
       "      <th>2</th>\n",
       "      <td>0</td>\n",
       "      <td>This series revolves around 4 friends who run ...</td>\n",
       "      <td>[-0.0994866, -0.011678233, -0.04304758, -0.058...</td>\n",
       "    </tr>\n",
       "    <tr>\n",
       "      <th>3</th>\n",
       "      <td>0</td>\n",
       "      <td>I was pleasantly surprised with this \"out of t...</td>\n",
       "      <td>[-0.08626594, -0.014134657, -0.018659806, -0.0...</td>\n",
       "    </tr>\n",
       "    <tr>\n",
       "      <th>5</th>\n",
       "      <td>0</td>\n",
       "      <td>funny thing. My brother's been trying to get m...</td>\n",
       "      <td>[-0.028365718, -0.036138948, -0.05263852, -0.0...</td>\n",
       "    </tr>\n",
       "    <tr>\n",
       "      <th>6</th>\n",
       "      <td>0</td>\n",
       "      <td>I love it's always sunny and wanted to own the...</td>\n",
       "      <td>[-0.12668362, -0.0072393613, -0.07949596, -0.0...</td>\n",
       "    </tr>\n",
       "  </tbody>\n",
       "</table>\n",
       "</div>"
      ],
      "text/plain": [
       "   label                                                raw  \\\n",
       "0      0  I only watched the Wanda Sykes portion of this...   \n",
       "2      0  This series revolves around 4 friends who run ...   \n",
       "3      0  I was pleasantly surprised with this \"out of t...   \n",
       "5      0  funny thing. My brother's been trying to get m...   \n",
       "6      0  I love it's always sunny and wanted to own the...   \n",
       "\n",
       "                                          doc_vector  \n",
       "0  [-0.06968915, -0.048230045, -0.04642534, -0.04...  \n",
       "2  [-0.0994866, -0.011678233, -0.04304758, -0.058...  \n",
       "3  [-0.08626594, -0.014134657, -0.018659806, -0.0...  \n",
       "5  [-0.028365718, -0.036138948, -0.05263852, -0.0...  \n",
       "6  [-0.12668362, -0.0072393613, -0.07949596, -0.0...  "
      ]
     },
     "execution_count": 14,
     "metadata": {},
     "output_type": "execute_result"
    }
   ],
   "source": [
    "Data_train.head()"
   ]
  },
  {
   "cell_type": "code",
   "execution_count": 15,
   "id": "e7e7b9d7",
   "metadata": {},
   "outputs": [
    {
     "data": {
      "text/html": [
       "<div>\n",
       "<style scoped>\n",
       "    .dataframe tbody tr th:only-of-type {\n",
       "        vertical-align: middle;\n",
       "    }\n",
       "\n",
       "    .dataframe tbody tr th {\n",
       "        vertical-align: top;\n",
       "    }\n",
       "\n",
       "    .dataframe thead th {\n",
       "        text-align: right;\n",
       "    }\n",
       "</style>\n",
       "<table border=\"1\" class=\"dataframe\">\n",
       "  <thead>\n",
       "    <tr style=\"text-align: right;\">\n",
       "      <th></th>\n",
       "      <th>label</th>\n",
       "      <th>raw</th>\n",
       "      <th>doc_vector</th>\n",
       "    </tr>\n",
       "  </thead>\n",
       "  <tbody>\n",
       "    <tr>\n",
       "      <th>1</th>\n",
       "      <td>0</td>\n",
       "      <td>This is a cute series, and I did watch two epi...</td>\n",
       "      <td>[-0.011499258, -0.0013103822, -0.11865336, -0....</td>\n",
       "    </tr>\n",
       "    <tr>\n",
       "      <th>4</th>\n",
       "      <td>0</td>\n",
       "      <td>I heard about It's Always Sunny from a Kevin S...</td>\n",
       "      <td>[-0.10698509, -0.053235725, -0.0753996, -0.082...</td>\n",
       "    </tr>\n",
       "    <tr>\n",
       "      <th>11</th>\n",
       "      <td>0</td>\n",
       "      <td>NCIS changed in third season..and gotten stron...</td>\n",
       "      <td>[0.00017568063, 0.1296811, 0.017859701, 0.0138...</td>\n",
       "    </tr>\n",
       "    <tr>\n",
       "      <th>19</th>\n",
       "      <td>0</td>\n",
       "      <td>My children love this show. I will give a grea...</td>\n",
       "      <td>[-0.053463183, -0.040864937, -0.06840125, -0.0...</td>\n",
       "    </tr>\n",
       "    <tr>\n",
       "      <th>24</th>\n",
       "      <td>0</td>\n",
       "      <td>What a morose way to end such a fun series. I ...</td>\n",
       "      <td>[-0.07749346, 0.01645051, -0.100200966, -0.008...</td>\n",
       "    </tr>\n",
       "  </tbody>\n",
       "</table>\n",
       "</div>"
      ],
      "text/plain": [
       "    label                                                raw  \\\n",
       "1       0  This is a cute series, and I did watch two epi...   \n",
       "4       0  I heard about It's Always Sunny from a Kevin S...   \n",
       "11      0  NCIS changed in third season..and gotten stron...   \n",
       "19      0  My children love this show. I will give a grea...   \n",
       "24      0  What a morose way to end such a fun series. I ...   \n",
       "\n",
       "                                           doc_vector  \n",
       "1   [-0.011499258, -0.0013103822, -0.11865336, -0....  \n",
       "4   [-0.10698509, -0.053235725, -0.0753996, -0.082...  \n",
       "11  [0.00017568063, 0.1296811, 0.017859701, 0.0138...  \n",
       "19  [-0.053463183, -0.040864937, -0.06840125, -0.0...  \n",
       "24  [-0.07749346, 0.01645051, -0.100200966, -0.008...  "
      ]
     },
     "execution_count": 15,
     "metadata": {},
     "output_type": "execute_result"
    }
   ],
   "source": [
    "Data_test.head()"
   ]
  },
  {
   "cell_type": "code",
   "execution_count": 24,
   "id": "48d6db56",
   "metadata": {},
   "outputs": [],
   "source": [
    "X_train_prescl = np.array(Data_train['doc_vector'].tolist())\n",
    "Y_train = Data_train.label\n",
    "X_test_prescl = np.array(Data_test['doc_vector'].tolist())\n",
    "Y_test = Data_test.label\n",
    "X_train,X_test = Standarization(X_train_prescl,X_test_prescl)"
   ]
  },
  {
   "cell_type": "code",
   "execution_count": 25,
   "id": "8e627500",
   "metadata": {},
   "outputs": [
    {
     "name": "stdout",
     "output_type": "stream",
     "text": [
      "[[0.53985605 0.14717412 0.54258917 ... 0.75814422 0.46561625 0.65139275]\n",
      " [0.50531362 0.19357855 0.55020142 ... 0.74455464 0.4470864  0.65655806]\n",
      " [0.52063955 0.19046    0.60516268 ... 0.79182477 0.42135595 0.69842009]\n",
      " ...\n",
      " [0.5175338  0.14605267 0.70642072 ... 0.79892787 0.48484953 0.61310493]\n",
      " [0.44760262 0.15060078 0.77442238 ... 0.81333844 0.4336211  0.67882331]\n",
      " [0.50359588 0.13766625 0.66869785 ... 0.84276899 0.47840672 0.61955024]]\n"
     ]
    }
   ],
   "source": [
    "print(X_train)"
   ]
  },
  {
   "cell_type": "code",
   "execution_count": 18,
   "id": "7e3d11e5",
   "metadata": {},
   "outputs": [
    {
     "data": {
      "image/png": "[encoded data removed]",
      "text/plain": [
       "<Figure size 640x480 with 1 Axes>"
      ]
     },
     "metadata": {},
     "output_type": "display_data"
    }
   ],
   "source": [
    "C = []\n",
    "accu_logreg_C = []\n",
    "for i in np.arange(0.1, 5, 0.1):\n",
    "    logreg_para = LogisticRegression(C=i,max_iter=10000)\n",
    "    logreg_para.fit(X_train,Y_train.values.reshape(-1))\n",
    "    Y_pred_logreg = logreg_para.predict(X_test)\n",
    "    C.append(i)\n",
    "    accu_logreg_C.append(accuracy_score(Y_test, Y_pred_logreg))\n",
    "plt.plot(C,accu_logreg_C)\n",
    "plt.xlabel(\"C\")\n",
    "plt.ylabel(\"accuracy\")\n",
    "plt.show()"
   ]
  },
  {
   "cell_type": "code",
   "execution_count": 19,
   "id": "d2b5a284",
   "metadata": {},
   "outputs": [],
   "source": [
    "params_logreg = {'C':np.arange(1, 4, 0.5),'class_weight':['balanced', None],'solver':['liblinear','sag','lbfgs','newton-cg']}\n",
    "logreg_para = LogisticRegression(max_iter=1000)\n",
    "clf_logreg = GridSearchCV(logreg_para, param_grid=params_logreg, cv=10)\n",
    "clf_logreg.fit(X_train, Y_train.values.reshape(-1))\n",
    "logreg_best=clf_logreg.best_params_"
   ]
  },
  {
   "cell_type": "code",
   "execution_count": 22,
   "id": "952ce83e",
   "metadata": {},
   "outputs": [
    {
     "data": {
      "image/png": "[encoded data removed]",
      "text/plain": [
       "<Figure size 640x480 with 1 Axes>"
      ]
     },
     "metadata": {},
     "output_type": "display_data"
    }
   ],
   "source": [
    "c = []\n",
    "accu_svm_c = []\n",
    "for i in np.arange(0.01, 2, 0.05):\n",
    "    svm_para = svm.SVC(C=i,max_iter=5000)\n",
    "    svm_para.fit(X_train,Y_train.values.reshape(-1))\n",
    "    Y_pred_svm = svm_para.predict(X_test)\n",
    "    c.append(i)\n",
    "    accu_svm_c.append(accuracy_score(Y_test, Y_pred_svm))\n",
    "plt.plot(c,accu_svm_c)\n",
    "plt.xlabel(\"C\")\n",
    "plt.ylabel(\"accuracy\")\n",
    "plt.show()"
   ]
  },
  {
   "cell_type": "code",
   "execution_count": 25,
   "id": "006e917e",
   "metadata": {},
   "outputs": [
    {
     "data": {
      "image/png": "[encoded data removed]",
      "text/plain": [
       "<Figure size 640x480 with 1 Axes>"
      ]
     },
     "metadata": {},
     "output_type": "display_data"
    }
   ],
   "source": [
    "gamma = []\n",
    "accu_svm_gamma = []\n",
    "for i in np.arange(0.01, 5, 0.05):\n",
    "    svm_para = svm.SVC(C=2,gamma=i,max_iter=5000)\n",
    "    svm_para.fit(X_train,Y_train.values.reshape(-1))\n",
    "    Y_pred_svm = svm_para.predict(X_test)\n",
    "    gamma.append(i)\n",
    "    accu_svm_gamma.append(accuracy_score(Y_test, Y_pred_svm))\n",
    "plt.plot(gamma,accu_svm_gamma)\n",
    "plt.xlabel(\"gamma\")\n",
    "plt.ylabel(\"accuracy\")\n",
    "plt.show()"
   ]
  },
  {
   "cell_type": "code",
   "execution_count": 20,
   "id": "62d0ce0a",
   "metadata": {},
   "outputs": [],
   "source": [
    "params_svm = {'C':[0.5,1,1.5,2],'gamma':np.arange(0.5,3,0.5)}\n",
    "svm_para = svm.SVC(max_iter=5000)\n",
    "clf_svm = GridSearchCV(svm_para, param_grid=params_svm, cv=10)\n",
    "clf_svm.fit(X_train, Y_train.values.reshape(-1))\n",
    "svm_best = clf_svm.best_params_"
   ]
  },
  {
   "cell_type": "code",
   "execution_count": 27,
   "id": "9d080f21",
   "metadata": {},
   "outputs": [
    {
     "data": {
      "image/png": "[encoded data removed]",
      "text/plain": [
       "<Figure size 640x480 with 1 Axes>"
      ]
     },
     "metadata": {},
     "output_type": "display_data"
    }
   ],
   "source": [
    "batch_size = []\n",
    "accu_mlp_batch_size = []\n",
    "for i in range(10, 200, 10):\n",
    "    mlp_para = MLPClassifier(max_iter=5000, hidden_layer_sizes=[100, 100])\n",
    "    mlp_para.fit(X_train,Y_train.values.reshape(-1))\n",
    "    Y_pred_mlp = mlp_para.predict(X_test)\n",
    "    batch_size.append(i)\n",
    "    accu_mlp_batch_size.append(accuracy_score(Y_test, Y_pred_mlp))\n",
    "plt.plot(batch_size,accu_mlp_batch_size)\n",
    "plt.xlabel(\"batch_size\")\n",
    "plt.ylabel(\"accuracy\")\n",
    "plt.show()"
   ]
  },
  {
   "cell_type": "code",
   "execution_count": 19,
   "id": "24dd9b1f",
   "metadata": {},
   "outputs": [
    {
     "data": {
      "text/plain": [
       "{'early_stopping': False, 'solver': 'sgd'}"
      ]
     },
     "execution_count": 19,
     "metadata": {},
     "output_type": "execute_result"
    }
   ],
   "source": [
    "params_mlp = {\"solver\": ['adam', 'sgd', 'lbfgs'],\"early_stopping\":[True,False]}\n",
    "mlp_para = MLPClassifier(max_iter=5000, hidden_layer_sizes=[100, 100])\n",
    "clf_mlp = GridSearchCV(mlp_para, param_grid=params_mlp, cv=10)\n",
    "clf_mlp.fit(X_train, Y_train.values.reshape(-1))\n",
    "mlp_best=clf_mlp.best_params_"
   ]
  },
  {
   "cell_type": "code",
   "execution_count": 25,
   "id": "171b2d1f",
   "metadata": {},
   "outputs": [
    {
     "data": {
      "image/png": "[encoded data removed]",
      "text/plain": [
       "<Figure size 640x480 with 1 Axes>"
      ]
     },
     "metadata": {},
     "output_type": "display_data"
    }
   ],
   "source": [
    "max_depth = []\n",
    "accu_tree_max_depth = []\n",
    "for i in range(1,21):\n",
    "    tree_para = DecisionTreeClassifier(max_depth=i,random_state = 66)\n",
    "    tree_para.fit(X_train,Y_train.values.reshape(-1))\n",
    "    Y_pred_tree = tree_para.predict(X_test)\n",
    "    max_depth.append(i)\n",
    "    accu_tree_max_depth.append(accuracy_score(Y_test, Y_pred_tree))\n",
    "plt.plot(max_depth,accu_tree_max_depth)\n",
    "plt.xlabel(\"max depth\")\n",
    "plt.ylabel(\"accuracy\")\n",
    "plt.show()"
   ]
  },
  {
   "cell_type": "code",
   "execution_count": 27,
   "id": "a39be8d1",
   "metadata": {},
   "outputs": [
    {
     "data": {
      "image/png": "[encoded data removed]",
      "text/plain": [
       "<Figure size 640x480 with 1 Axes>"
      ]
     },
     "metadata": {},
     "output_type": "display_data"
    }
   ],
   "source": [
    "min_samples_split = []\n",
    "accu_tree_min_samples_split = []\n",
    "for i in range(2,31):\n",
    "    tree_para = DecisionTreeClassifier(max_depth=10,min_samples_split=i,random_state = 66)\n",
    "    tree_para.fit(X_train,Y_train.values.reshape(-1))\n",
    "    Y_pred_tree = tree_para.predict(X_test)\n",
    "    min_samples_split.append(i)\n",
    "    accu_tree_min_samples_split.append(accuracy_score(Y_test, Y_pred_tree))\n",
    "plt.plot(min_samples_split,accu_tree_min_samples_split)\n",
    "plt.xlabel(\"min_samples_split\")\n",
    "plt.ylabel(\"accuracy\")\n",
    "plt.show()"
   ]
  },
  {
   "cell_type": "code",
   "execution_count": 30,
   "id": "c22b734a",
   "metadata": {},
   "outputs": [
    {
     "data": {
      "image/png": "[encoded data removed]",
      "text/plain": [
       "<Figure size 640x480 with 1 Axes>"
      ]
     },
     "metadata": {},
     "output_type": "display_data"
    }
   ],
   "source": [
    "min_samples_leaf = []\n",
    "accu_tree_min_samples_leaf = []\n",
    "for i in range(1,31):\n",
    "    tree_para = DecisionTreeClassifier(max_depth=10,min_samples_split=10,min_samples_leaf=i,random_state = 66)\n",
    "    tree_para.fit(X_train,Y_train.values.reshape(-1))\n",
    "    Y_pred_tree = tree_para.predict(X_test)\n",
    "    min_samples_leaf.append(i)\n",
    "    accu_tree_min_samples_leaf.append(accuracy_score(Y_test, Y_pred_tree))\n",
    "plt.plot(min_samples_leaf,accu_tree_min_samples_leaf)\n",
    "plt.xlabel(\"min_samples_leaf\")\n",
    "plt.ylabel(\"accuracy\")\n",
    "plt.show()"
   ]
  },
  {
   "cell_type": "code",
   "execution_count": 56,
   "id": "151e6ad7",
   "metadata": {},
   "outputs": [
    {
     "data": {
      "text/plain": [
       "{'max_depth': 9, 'min_samples_leaf': 5, 'min_samples_split': 11}"
      ]
     },
     "execution_count": 56,
     "metadata": {},
     "output_type": "execute_result"
    }
   ],
   "source": [
    "params_tree = {'max_depth':range(5,10),'min_samples_split':range(2,15),'min_samples_leaf':range(2,6)}\n",
    "tree_para = DecisionTreeClassifier(random_state = 66)\n",
    "clf_tree = GridSearchCV(tree_para, param_grid=params_tree, cv=10)\n",
    "clf_tree.fit(X_train, Y_train.values.reshape(-1))\n",
    "tree_best=clf_tree.best_params_"
   ]
  },
  {
   "cell_type": "code",
   "execution_count": 17,
   "id": "197453a5",
   "metadata": {},
   "outputs": [
    {
     "name": "stdout",
     "output_type": "stream",
     "text": [
      "Epoch 1/75\n",
      "100/100 [==============================] - 42s 379ms/step - loss: 2.1960 - accuracy: 0.1534 - val_loss: 2.0410 - val_accuracy: 0.1769\n",
      "Epoch 2/75\n",
      "100/100 [==============================] - 37s 370ms/step - loss: 2.0325 - accuracy: 0.1975 - val_loss: 1.8432 - val_accuracy: 0.2350\n",
      "Epoch 3/75\n",
      "100/100 [==============================] - 37s 372ms/step - loss: 1.9929 - accuracy: 0.2284 - val_loss: 1.7927 - val_accuracy: 0.2256\n",
      "Epoch 4/75\n",
      "100/100 [==============================] - 37s 374ms/step - loss: 1.8125 - accuracy: 0.2917 - val_loss: 2.1760 - val_accuracy: 0.1912\n",
      "Epoch 5/75\n",
      "100/100 [==============================] - 40s 398ms/step - loss: 2.0549 - accuracy: 0.2502 - val_loss: 2.0150 - val_accuracy: 0.2456\n",
      "Epoch 6/75\n",
      "100/100 [==============================] - 32s 317ms/step - loss: 1.8831 - accuracy: 0.2927 - val_loss: 1.9217 - val_accuracy: 0.2731\n",
      "Epoch 7/75\n",
      "100/100 [==============================] - 38s 383ms/step - loss: 1.9310 - accuracy: 0.3084 - val_loss: 2.0179 - val_accuracy: 0.2269\n",
      "Epoch 8/75\n",
      "100/100 [==============================] - 38s 382ms/step - loss: 1.9547 - accuracy: 0.3152 - val_loss: 2.0420 - val_accuracy: 0.2387\n",
      "Epoch 9/75\n",
      "100/100 [==============================] - 39s 386ms/step - loss: 1.9001 - accuracy: 0.3336 - val_loss: 1.9065 - val_accuracy: 0.3044\n",
      "Epoch 10/75\n",
      "100/100 [==============================] - 38s 377ms/step - loss: 1.7333 - accuracy: 0.3847 - val_loss: 1.7620 - val_accuracy: 0.3481\n",
      "Epoch 11/75\n",
      "100/100 [==============================] - 39s 390ms/step - loss: 1.5974 - accuracy: 0.4214 - val_loss: 1.6553 - val_accuracy: 0.3531\n",
      "Epoch 12/75\n",
      "100/100 [==============================] - 39s 392ms/step - loss: 1.4379 - accuracy: 0.4644 - val_loss: 1.5014 - val_accuracy: 0.3581\n",
      "Epoch 13/75\n",
      "100/100 [==============================] - 39s 391ms/step - loss: 1.3935 - accuracy: 0.5131 - val_loss: 1.5003 - val_accuracy: 0.3881\n",
      "Epoch 14/75\n",
      "100/100 [==============================] - 38s 378ms/step - loss: 1.1402 - accuracy: 0.5759 - val_loss: 1.4014 - val_accuracy: 0.4613\n",
      "Epoch 15/75\n",
      "100/100 [==============================] - 38s 383ms/step - loss: 0.8310 - accuracy: 0.7156 - val_loss: 1.0679 - val_accuracy: 0.6081\n",
      "Epoch 16/75\n",
      "100/100 [==============================] - 38s 379ms/step - loss: 0.5832 - accuracy: 0.8003 - val_loss: 0.9678 - val_accuracy: 0.6562\n",
      "Epoch 17/75\n",
      "100/100 [==============================] - 38s 385ms/step - loss: 0.6156 - accuracy: 0.7783 - val_loss: 0.9564 - val_accuracy: 0.6837\n",
      "Epoch 18/75\n",
      "100/100 [==============================] - 38s 381ms/step - loss: 0.8338 - accuracy: 0.7189 - val_loss: 0.9565 - val_accuracy: 0.6656\n",
      "Epoch 19/75\n",
      "100/100 [==============================] - 38s 380ms/step - loss: 0.5203 - accuracy: 0.8402 - val_loss: 0.9876 - val_accuracy: 0.6756\n",
      "Epoch 20/75\n",
      "100/100 [==============================] - 37s 375ms/step - loss: 0.3859 - accuracy: 0.8905 - val_loss: 0.6348 - val_accuracy: 0.8125\n",
      "Epoch 21/75\n",
      "100/100 [==============================] - 38s 379ms/step - loss: 0.1830 - accuracy: 0.9533 - val_loss: 0.6492 - val_accuracy: 0.8087\n",
      "Epoch 22/75\n",
      "100/100 [==============================] - 38s 380ms/step - loss: 0.1206 - accuracy: 0.9741 - val_loss: 0.6228 - val_accuracy: 0.8350\n",
      "Epoch 23/75\n",
      "100/100 [==============================] - 38s 385ms/step - loss: 0.1001 - accuracy: 0.9772 - val_loss: 0.6183 - val_accuracy: 0.8419\n",
      "Epoch 24/75\n",
      "100/100 [==============================] - 39s 389ms/step - loss: 0.0669 - accuracy: 0.9877 - val_loss: 0.6713 - val_accuracy: 0.8294\n",
      "Epoch 25/75\n",
      "100/100 [==============================] - 38s 380ms/step - loss: 0.0493 - accuracy: 0.9908 - val_loss: 0.6431 - val_accuracy: 0.8431\n",
      "Epoch 26/75\n",
      "100/100 [==============================] - 39s 386ms/step - loss: 0.0489 - accuracy: 0.9898 - val_loss: 0.6321 - val_accuracy: 0.8400\n",
      "Epoch 27/75\n",
      "100/100 [==============================] - 39s 386ms/step - loss: 0.0336 - accuracy: 0.9945 - val_loss: 0.6470 - val_accuracy: 0.8481\n",
      "Epoch 28/75\n",
      "100/100 [==============================] - 30s 299ms/step - loss: 0.0305 - accuracy: 0.9942 - val_loss: 0.6411 - val_accuracy: 0.8606\n",
      "Epoch 29/75\n",
      "100/100 [==============================] - 25s 247ms/step - loss: 0.0328 - accuracy: 0.9931 - val_loss: 0.5919 - val_accuracy: 0.8569\n",
      "Epoch 30/75\n",
      "100/100 [==============================] - 25s 254ms/step - loss: 0.0225 - accuracy: 0.9962 - val_loss: 0.6150 - val_accuracy: 0.8625\n",
      "Epoch 31/75\n",
      "100/100 [==============================] - 24s 237ms/step - loss: 0.0155 - accuracy: 0.9973 - val_loss: 0.6174 - val_accuracy: 0.8694\n",
      "Epoch 32/75\n",
      "100/100 [==============================] - 26s 258ms/step - loss: 0.0147 - accuracy: 0.9978 - val_loss: 0.6491 - val_accuracy: 0.8575\n",
      "Epoch 33/75\n",
      "100/100 [==============================] - 26s 257ms/step - loss: 0.0114 - accuracy: 0.9981 - val_loss: 0.6423 - val_accuracy: 0.8637\n",
      "Epoch 34/75\n",
      "100/100 [==============================] - 26s 260ms/step - loss: 0.0393 - accuracy: 0.9916 - val_loss: 1.1855 - val_accuracy: 0.7837\n",
      "Epoch 35/75\n",
      "100/100 [==============================] - 25s 250ms/step - loss: 0.0557 - accuracy: 0.9872 - val_loss: 0.6105 - val_accuracy: 0.8644\n",
      "Epoch 36/75\n",
      "100/100 [==============================] - 22s 225ms/step - loss: 0.0394 - accuracy: 0.9903 - val_loss: 0.6001 - val_accuracy: 0.8675\n",
      "Epoch 37/75\n",
      "100/100 [==============================] - 18s 181ms/step - loss: 0.0264 - accuracy: 0.9939 - val_loss: 0.6147 - val_accuracy: 0.8681\n",
      "Epoch 38/75\n",
      "100/100 [==============================] - 18s 181ms/step - loss: 0.0111 - accuracy: 0.9983 - val_loss: 0.5684 - val_accuracy: 0.8781\n",
      "Epoch 39/75\n",
      "100/100 [==============================] - 18s 179ms/step - loss: 0.0093 - accuracy: 0.9981 - val_loss: 0.6200 - val_accuracy: 0.8763\n",
      "Epoch 40/75\n",
      "100/100 [==============================] - 16s 163ms/step - loss: 0.0076 - accuracy: 0.9987 - val_loss: 0.6208 - val_accuracy: 0.8788\n",
      "Epoch 41/75\n",
      "100/100 [==============================] - 18s 184ms/step - loss: 0.0067 - accuracy: 0.9987 - val_loss: 0.6330 - val_accuracy: 0.8756\n",
      "Epoch 42/75\n",
      "100/100 [==============================] - 18s 183ms/step - loss: 0.0071 - accuracy: 0.9987 - val_loss: 0.6606 - val_accuracy: 0.8750\n",
      "Epoch 43/75\n",
      "100/100 [==============================] - 20s 196ms/step - loss: 0.0058 - accuracy: 0.9991 - val_loss: 0.6722 - val_accuracy: 0.8775\n",
      "Epoch 44/75\n",
      "100/100 [==============================] - 20s 197ms/step - loss: 0.0093 - accuracy: 0.9975 - val_loss: 0.8341 - val_accuracy: 0.8438\n",
      "Epoch 45/75\n",
      "100/100 [==============================] - 18s 183ms/step - loss: 0.0425 - accuracy: 0.9892 - val_loss: 0.5713 - val_accuracy: 0.8756\n",
      "Epoch 46/75\n",
      "100/100 [==============================] - 18s 183ms/step - loss: 0.0133 - accuracy: 0.9969 - val_loss: 0.6348 - val_accuracy: 0.8725\n",
      "Epoch 47/75\n",
      "100/100 [==============================] - 17s 172ms/step - loss: 0.0076 - accuracy: 0.9981 - val_loss: 0.5767 - val_accuracy: 0.8881\n",
      "Epoch 48/75\n",
      "100/100 [==============================] - 17s 171ms/step - loss: 0.0064 - accuracy: 0.9989 - val_loss: 0.6136 - val_accuracy: 0.8838\n",
      "Epoch 49/75\n",
      "100/100 [==============================] - 18s 176ms/step - loss: 0.0037 - accuracy: 0.9992 - val_loss: 0.6227 - val_accuracy: 0.8838\n",
      "Epoch 50/75\n",
      "100/100 [==============================] - 18s 185ms/step - loss: 0.0097 - accuracy: 0.9975 - val_loss: 0.7259 - val_accuracy: 0.8681\n",
      "Epoch 51/75\n",
      "100/100 [==============================] - 18s 183ms/step - loss: 0.0290 - accuracy: 0.9927 - val_loss: 0.6958 - val_accuracy: 0.8594\n",
      "Epoch 52/75\n",
      "100/100 [==============================] - 651s 7s/step - loss: 0.0086 - accuracy: 0.9981 - val_loss: 0.7318 - val_accuracy: 0.8600\n",
      "Epoch 53/75\n",
      "100/100 [==============================] - 21s 206ms/step - loss: 0.0142 - accuracy: 0.9966 - val_loss: 0.5894 - val_accuracy: 0.8831\n",
      "Epoch 54/75\n",
      "100/100 [==============================] - 21s 210ms/step - loss: 0.0109 - accuracy: 0.9969 - val_loss: 0.6338 - val_accuracy: 0.8775\n",
      "Epoch 55/75\n",
      "100/100 [==============================] - 25s 249ms/step - loss: 0.0079 - accuracy: 0.9981 - val_loss: 0.6643 - val_accuracy: 0.8756\n",
      "Epoch 56/75\n",
      "100/100 [==============================] - 25s 253ms/step - loss: 0.0052 - accuracy: 0.9984 - val_loss: 0.6486 - val_accuracy: 0.8813\n",
      "Epoch 57/75\n"
     ]
    },
    {
     "name": "stdout",
     "output_type": "stream",
     "text": [
      "100/100 [==============================] - 25s 249ms/step - loss: 0.0033 - accuracy: 0.9989 - val_loss: 0.6794 - val_accuracy: 0.8731\n",
      "Epoch 58/75\n",
      "100/100 [==============================] - 23s 234ms/step - loss: 0.0027 - accuracy: 0.9989 - val_loss: 0.6814 - val_accuracy: 0.8750\n",
      "Epoch 59/75\n",
      "100/100 [==============================] - 22s 216ms/step - loss: 0.0022 - accuracy: 0.9991 - val_loss: 0.6761 - val_accuracy: 0.8769\n",
      "Epoch 60/75\n",
      "100/100 [==============================] - 23s 236ms/step - loss: 0.0021 - accuracy: 0.9994 - val_loss: 0.6785 - val_accuracy: 0.8781\n",
      "Epoch 61/75\n",
      "100/100 [==============================] - 24s 239ms/step - loss: 0.0020 - accuracy: 0.9991 - val_loss: 0.6929 - val_accuracy: 0.8794\n",
      "Epoch 62/75\n",
      "100/100 [==============================] - 26s 255ms/step - loss: 0.0018 - accuracy: 0.9992 - val_loss: 0.7009 - val_accuracy: 0.8813\n",
      "Epoch 63/75\n",
      "100/100 [==============================] - 25s 247ms/step - loss: 0.0017 - accuracy: 0.9994 - val_loss: 0.7228 - val_accuracy: 0.8800\n",
      "Epoch 64/75\n",
      "100/100 [==============================] - 23s 228ms/step - loss: 0.0022 - accuracy: 0.9992 - val_loss: 0.7184 - val_accuracy: 0.8788\n",
      "Epoch 65/75\n",
      "100/100 [==============================] - 25s 252ms/step - loss: 0.0039 - accuracy: 0.9989 - val_loss: 0.7013 - val_accuracy: 0.8813\n",
      "Epoch 66/75\n",
      "100/100 [==============================] - 23s 226ms/step - loss: 0.0020 - accuracy: 0.9992 - val_loss: 0.7116 - val_accuracy: 0.8788\n",
      "Epoch 67/75\n",
      "100/100 [==============================] - 26s 256ms/step - loss: 0.0019 - accuracy: 0.9991 - val_loss: 0.8351 - val_accuracy: 0.8669\n",
      "Epoch 68/75\n",
      "100/100 [==============================] - 24s 235ms/step - loss: 0.0123 - accuracy: 0.9959 - val_loss: 0.6108 - val_accuracy: 0.8850\n",
      "Epoch 69/75\n",
      "100/100 [==============================] - 24s 235ms/step - loss: 0.0060 - accuracy: 0.9980 - val_loss: 0.6840 - val_accuracy: 0.8744\n",
      "Epoch 70/75\n",
      "100/100 [==============================] - 25s 254ms/step - loss: 0.0019 - accuracy: 0.9992 - val_loss: 0.6275 - val_accuracy: 0.8856\n",
      "Epoch 71/75\n",
      "100/100 [==============================] - 24s 235ms/step - loss: 0.0019 - accuracy: 0.9987 - val_loss: 0.6442 - val_accuracy: 0.8850\n",
      "Epoch 72/75\n",
      "100/100 [==============================] - 24s 243ms/step - loss: 0.0017 - accuracy: 0.9992 - val_loss: 0.6925 - val_accuracy: 0.8831\n",
      "Epoch 73/75\n",
      "100/100 [==============================] - 25s 254ms/step - loss: 0.0017 - accuracy: 0.9991 - val_loss: 0.6873 - val_accuracy: 0.8831\n",
      "Epoch 74/75\n",
      "100/100 [==============================] - 25s 253ms/step - loss: 0.0016 - accuracy: 0.9989 - val_loss: 0.6792 - val_accuracy: 0.8863\n",
      "Epoch 75/75\n",
      "100/100 [==============================] - 25s 253ms/step - loss: 0.0014 - accuracy: 0.9992 - val_loss: 0.6681 - val_accuracy: 0.8888\n"
     ]
    },
    {
     "data": {
      "text/plain": [
       "<keras.src.callbacks.History at 0x1e3b119e680>"
      ]
     },
     "execution_count": 17,
     "metadata": {},
     "output_type": "execute_result"
    }
   ],
   "source": [
    "# 将数据集拆分为训练集和验证集\n",
    "train_df, val_df = train_test_split(df, test_size=0.2, random_state=42)\n",
    "# 创建分词器，并根据训练集构建词汇表\n",
    "tokenizer = Tokenizer()\n",
    "tokenizer.fit_on_texts(train_df['raw'])\n",
    "# 将文本转换为序列\n",
    "X_train = tokenizer.texts_to_sequences(train_df['raw'])\n",
    "X_val = tokenizer.texts_to_sequences(val_df['raw'])\n",
    "# 填充序列，使它们具有相同的长度\n",
    "max_length = 128  # 最大长度\n",
    "X_train = pad_sequences(X_train, maxlen=max_length, padding='post')\n",
    "X_val = pad_sequences(X_val, maxlen=max_length, padding='post')\n",
    "# 标签数据\n",
    "Y_train = train_df['label']\n",
    "Y_val = val_df['label']\n",
    "# 模型构建\n",
    "textRNN = Sequential()\n",
    "textRNN.add(Embedding(input_dim=len(tokenizer.word_index) + 1, output_dim=100, input_length=max_length))\n",
    "textRNN.add(LSTM(128))\n",
    "textRNN.add(Dense(10, activation='softmax'))  # 有10个类别\n",
    "# 编译模型\n",
    "textRNN.compile(loss='sparse_categorical_crossentropy', optimizer='adam', metrics=['accuracy'])\n",
    "# 训练模型\n",
    "textRNN.fit(X_train, Y_train, validation_data=(X_val, Y_val), epochs=75, batch_size=64)"
   ]
  },
  {
   "cell_type": "markdown",
   "id": "518963ed",
   "metadata": {},
   "source": [
    "**以上是调参专区，以下是交叉验证专区**"
   ]
  },
  {
   "cell_type": "code",
   "execution_count": 21,
   "id": "23fc0306",
   "metadata": {},
   "outputs": [],
   "source": [
    "X=np.array(df['doc_vector'].tolist())\n",
    "Y=df.label\n",
    "kfold = StratifiedKFold(n_splits=5, shuffle=True, random_state=42)"
   ]
  },
  {
   "cell_type": "code",
   "execution_count": 22,
   "id": "3ada90a0",
   "metadata": {},
   "outputs": [
    {
     "name": "stdout",
     "output_type": "stream",
     "text": [
      "[0.91625  0.908125 0.901875 0.909375 0.899375]\n"
     ]
    }
   ],
   "source": [
    "logreg = LogisticRegression(max_iter=1000,**logreg_best)\n",
    "scores_logreg = cross_val_score(logreg, X, Y, cv=kfold, scoring='accuracy')\n",
    "print(scores_logreg)"
   ]
  },
  {
   "cell_type": "code",
   "execution_count": 37,
   "id": "15490c53",
   "metadata": {},
   "outputs": [
    {
     "name": "stdout",
     "output_type": "stream",
     "text": [
      "[0.914375 0.898125 0.899375 0.90375  0.900625]\n"
     ]
    }
   ],
   "source": [
    "svm = svm.SVC(max_iter=5000,**svm_best)\n",
    "scores_svm = cross_val_score(svm, X, Y, cv=kfold, scoring='accuracy')\n",
    "print(scores_svm)"
   ]
  },
  {
   "cell_type": "code",
   "execution_count": 43,
   "id": "60ce0606",
   "metadata": {},
   "outputs": [
    {
     "name": "stdout",
     "output_type": "stream",
     "text": [
      "[0.901875 0.885    0.895625 0.88125  0.889375]\n"
     ]
    }
   ],
   "source": [
    "mlp=MLPClassifier(max_iter=5000, hidden_layer_sizes=[100, 100],**mlp_best)\n",
    "scores_mlp = cross_val_score(mlp, X, Y, cv=kfold, scoring='accuracy')\n",
    "print(scores_mlp)"
   ]
  },
  {
   "cell_type": "code",
   "execution_count": 36,
   "id": "1010cc68",
   "metadata": {},
   "outputs": [
    {
     "name": "stdout",
     "output_type": "stream",
     "text": [
      "[0.6825   0.671875 0.64875  0.66375  0.674375]\n"
     ]
    }
   ],
   "source": [
    "tree = DecisionTreeClassifier(random_state = 66,**tree_best)\n",
    "scores_tree = cross_val_score(tree, X, Y, cv=kfold, scoring='accuracy')\n",
    "print(scores_tree)"
   ]
  },
  {
   "cell_type": "markdown",
   "id": "811532ce",
   "metadata": {},
   "source": [
    "**生成预测结果文件**"
   ]
  },
  {
   "cell_type": "code",
   "execution_count": 38,
   "id": "5eabf8c1",
   "metadata": {},
   "outputs": [
    {
     "name": "stdout",
     "output_type": "stream",
     "text": [
      "63/63 [==============================] - 1s 17ms/step\n"
     ]
    }
   ],
   "source": [
    "X_test_hand_in = tokenizer.texts_to_sequences(ft['text'])\n",
    "X_test_hand_in = pad_sequences(X_test_hand_in, maxlen=max_length, padding='post')\n",
    "preds = textRNN.predict(X_test_hand_in)\n",
    "test_ids = ft.index\n",
    "results_df = pd.DataFrame({'id': test_ids, 'pred': preds.argmax(axis=1)})\n",
    "with open(\"results.txt\", \"w\") as file:\n",
    "    file.write('id, pred\\n')\n",
    "    for i in range(len(results_df)):\n",
    "        cur_id=results_df['id'][i]\n",
    "        cur_pred=results_df['pred'][i]\n",
    "        file.write(f'{cur_id}, {cur_pred}\\n')"
   ]
  },
  {
   "cell_type": "code",
   "execution_count": null,
   "id": "0cfe9fc6",
   "metadata": {},
   "outputs": [],
   "source": []
  }
 ],
 "metadata": {
  "kernelspec": {
   "display_name": "Python 3 (ipykernel)",
   "language": "python",
   "name": "python3"
  },
  "language_info": {
   "codemirror_mode": {
    "name": "ipython",
    "version": 3
   },
   "file_extension": ".py",
   "mimetype": "text/x-python",
   "name": "python",
   "nbconvert_exporter": "python",
   "pygments_lexer": "ipython3",
   "version": "3.10.9"
  }
 },
 "nbformat": 4,
 "nbformat_minor": 5
}
